{
  "nbformat": 4,
  "nbformat_minor": 0,
  "metadata": {
    "colab": {
      "provenance": [],
      "gpuType": "T4"
    },
    "kernelspec": {
      "name": "python3",
      "display_name": "Python 3"
    },
    "language_info": {
      "name": "python"
    },
    "accelerator": "GPU"
  },
  "cells": [
    {
      "cell_type": "code",
      "source": [
        "from keras.models import Sequential\n",
        "from keras.layers import Dense, SimpleRNN"
      ],
      "metadata": {
        "id": "kEIle9IkyWxl"
      },
      "execution_count": null,
      "outputs": []
    },
    {
      "cell_type": "code",
      "source": [
        "import numpy as np\n",
        "import sys, os, string, random"
      ],
      "metadata": {
        "id": "zOViJSHCyisG"
      },
      "execution_count": null,
      "outputs": []
    },
    {
      "cell_type": "code",
      "source": [
        "characters = string.printable\n",
        "char_indices = dict((c, i) for i, c in enumerate(characters))\n",
        "indices_char = dict((i, c) for i, c in enumerate(characters))"
      ],
      "metadata": {
        "id": "S4tQCcIQyz56"
      },
      "execution_count": null,
      "outputs": []
    },
    {
      "cell_type": "code",
      "source": [
        "INPUT_VOCAB_SIZE = len(characters)\n",
        "BATCH_SIZE = 200\n",
        "HIDDEN_SIZE = 100\n",
        "TIME_STEPS = 3"
      ],
      "metadata": {
        "id": "qn5ArGvXzQ0L"
      },
      "execution_count": null,
      "outputs": []
    },
    {
      "cell_type": "code",
      "source": [
        "def encode_one_hot(line):\n",
        "  x = np.zeros((len(line), INPUT_VOCAB_SIZE))\n",
        "  for i, c in enumerate(line):\n",
        "    index = char_indices[c] if c in characters else char_indices[' ']\n",
        "    x[i][index] = 1\n",
        "  return x"
      ],
      "metadata": {
        "id": "5NiXikfmzB_r"
      },
      "execution_count": null,
      "outputs": []
    },
    {
      "cell_type": "code",
      "source": [
        "def decode_one_hot(x):\n",
        "  s = []\n",
        "  for onehot in x:\n",
        "    one_index = np.argmax(onehot)\n",
        "    s.append(indices_char[one_index])\n",
        "  return ''.join(s)"
      ],
      "metadata": {
        "id": "gOLpK_XY0Ir4"
      },
      "execution_count": null,
      "outputs": []
    },
    {
      "cell_type": "code",
      "source": [
        "def prepare_for_rnn(x):\n",
        "  ind = [np.array(np.arange(i, i+TIME_STEPS)) for i in range(x.shape[0] - TIME_STEPS + 1)]\n",
        "  ind = np.array(ind, dtype=np.int32)\n",
        "  x_rnn = x[ind]\n",
        "  return x_rnn"
      ],
      "metadata": {
        "id": "YK-ngRtS0s1K"
      },
      "execution_count": null,
      "outputs": []
    },
    {
      "cell_type": "code",
      "source": [
        "def input_generator(nsamples):\n",
        "  def generate_line():\n",
        "    inline = [' ']; outline = []\n",
        "    for _ in range(nsamples):\n",
        "      c = random.choice(characters)\n",
        "      expected = c.lower() if c in string.ascii_letters else ' '\n",
        "      inline.append(c); outline.append(expected)\n",
        "    inline.append(' ');\n",
        "    for i in range(nsamples):\n",
        "      if outline[i] == ' ': continue\n",
        "      if i > 0 and i < nsamples-1:\n",
        "        if outline[i-1] == ' ' and outline[i+1] == ' ':\n",
        "          outline[i] = ' '\n",
        "      if (i == 0 and outline[1] == ' ') or (i == nsamples-1 and outline[nsamples-2] == ' '):\n",
        "        outline[i] = ' '\n",
        "    return ''.join(inline), ''.join(outline)\n",
        "\n",
        "  while True:\n",
        "    input_data, expected = generate_line()\n",
        "    data_in = encode_one_hot(input_data)\n",
        "    data_out = encode_one_hot(expected)\n",
        "    yield prepare_for_rnn(data_in), data_out"
      ],
      "metadata": {
        "id": "kuDWKJpZ15R4"
      },
      "execution_count": null,
      "outputs": []
    },
    {
      "cell_type": "code",
      "source": [
        "def train(model):\n",
        "  model.compile(loss='categorical_crossentropy',\n",
        "                optimizer='adam',\n",
        "                metrics=['accuracy'])\n",
        "  input_gen = input_generator(BATCH_SIZE)\n",
        "  validation_gen = input_generator(BATCH_SIZE)\n",
        "  model.fit(input_gen,\n",
        "            epochs = 50, workers=1,\n",
        "            steps_per_epoch = 50,\n",
        "            validation_data = validation_gen,\n",
        "            validation_steps = 10)"
      ],
      "metadata": {
        "id": "-ZZrgL9G-MAT"
      },
      "execution_count": null,
      "outputs": []
    },
    {
      "cell_type": "code",
      "source": [
        "def build_model():\n",
        "  model = Sequential()\n",
        "  model.add(SimpleRNN(HIDDEN_SIZE, input_shape=(None, INPUT_VOCAB_SIZE)))\n",
        "  model.add(Dense(INPUT_VOCAB_SIZE, activation='softmax'))\n",
        "  return model"
      ],
      "metadata": {
        "id": "_XZbM-PWlYC9"
      },
      "execution_count": null,
      "outputs": []
    },
    {
      "cell_type": "code",
      "source": [
        "model = build_model()"
      ],
      "metadata": {
        "id": "63V6h0vN2XWT"
      },
      "execution_count": null,
      "outputs": []
    },
    {
      "cell_type": "code",
      "source": [
        "model.summary()"
      ],
      "metadata": {
        "colab": {
          "base_uri": "https://localhost:8080/"
        },
        "id": "21mrA_ot2Y7i",
        "outputId": "620d9393-80cd-4271-e894-3c8463857718"
      },
      "execution_count": null,
      "outputs": [
        {
          "output_type": "stream",
          "name": "stdout",
          "text": [
            "Model: \"sequential_1\"\n",
            "_________________________________________________________________\n",
            " Layer (type)                Output Shape              Param #   \n",
            "=================================================================\n",
            " simple_rnn_1 (SimpleRNN)    (None, 100)               20100     \n",
            "                                                                 \n",
            " dense_1 (Dense)             (None, 100)               10100     \n",
            "                                                                 \n",
            "=================================================================\n",
            "Total params: 30200 (117.97 KB)\n",
            "Trainable params: 30200 (117.97 KB)\n",
            "Non-trainable params: 0 (0.00 Byte)\n",
            "_________________________________________________________________\n"
          ]
        }
      ]
    },
    {
      "cell_type": "code",
      "source": [
        "train(model)"
      ],
      "metadata": {
        "id": "HoVkGSxF2bsX",
        "colab": {
          "base_uri": "https://localhost:8080/"
        },
        "outputId": "78315aea-6159-411b-8697-91050b849351"
      },
      "execution_count": null,
      "outputs": [
        {
          "output_type": "stream",
          "name": "stdout",
          "text": [
            "Epoch 1/50\n",
            "50/50 [==============================] - 2s 11ms/step - loss: 2.9950 - accuracy: 0.5051 - val_loss: 1.8902 - val_accuracy: 0.5915\n",
            "Epoch 2/50\n",
            "50/50 [==============================] - 0s 7ms/step - loss: 1.6624 - accuracy: 0.6213 - val_loss: 1.5822 - val_accuracy: 0.6085\n",
            "Epoch 3/50\n",
            "50/50 [==============================] - 0s 7ms/step - loss: 1.4628 - accuracy: 0.5999 - val_loss: 1.2536 - val_accuracy: 0.6215\n",
            "Epoch 4/50\n",
            "50/50 [==============================] - 0s 7ms/step - loss: 1.0821 - accuracy: 0.6926 - val_loss: 0.8551 - val_accuracy: 0.7890\n",
            "Epoch 5/50\n",
            "50/50 [==============================] - 0s 7ms/step - loss: 0.7228 - accuracy: 0.8497 - val_loss: 0.5566 - val_accuracy: 0.9040\n",
            "Epoch 6/50\n",
            "50/50 [==============================] - 0s 8ms/step - loss: 0.4414 - accuracy: 0.9192 - val_loss: 0.3295 - val_accuracy: 0.9585\n",
            "Epoch 7/50\n",
            "50/50 [==============================] - 0s 7ms/step - loss: 0.2813 - accuracy: 0.9530 - val_loss: 0.2336 - val_accuracy: 0.9535\n",
            "Epoch 8/50\n",
            "50/50 [==============================] - 0s 7ms/step - loss: 0.2033 - accuracy: 0.9668 - val_loss: 0.1788 - val_accuracy: 0.9445\n",
            "Epoch 9/50\n",
            "50/50 [==============================] - 0s 7ms/step - loss: 0.1599 - accuracy: 0.9806 - val_loss: 0.1422 - val_accuracy: 0.9895\n",
            "Epoch 10/50\n",
            "50/50 [==============================] - 0s 7ms/step - loss: 0.1316 - accuracy: 0.9865 - val_loss: 0.1319 - val_accuracy: 0.9795\n",
            "Epoch 11/50\n",
            "50/50 [==============================] - 0s 7ms/step - loss: 0.1097 - accuracy: 0.9936 - val_loss: 0.0975 - val_accuracy: 0.9990\n",
            "Epoch 12/50\n",
            "50/50 [==============================] - 0s 7ms/step - loss: 0.0924 - accuracy: 0.9980 - val_loss: 0.0865 - val_accuracy: 0.9980\n",
            "Epoch 13/50\n",
            "50/50 [==============================] - 0s 7ms/step - loss: 0.0792 - accuracy: 0.9987 - val_loss: 0.0738 - val_accuracy: 1.0000\n",
            "Epoch 14/50\n",
            "50/50 [==============================] - 0s 7ms/step - loss: 0.0696 - accuracy: 0.9993 - val_loss: 0.0669 - val_accuracy: 0.9990\n",
            "Epoch 15/50\n",
            "50/50 [==============================] - 0s 7ms/step - loss: 0.0609 - accuracy: 0.9998 - val_loss: 0.0561 - val_accuracy: 1.0000\n",
            "Epoch 16/50\n",
            "50/50 [==============================] - 0s 7ms/step - loss: 0.0532 - accuracy: 0.9998 - val_loss: 0.0481 - val_accuracy: 1.0000\n",
            "Epoch 17/50\n",
            "50/50 [==============================] - 0s 7ms/step - loss: 0.0447 - accuracy: 1.0000 - val_loss: 0.0435 - val_accuracy: 1.0000\n",
            "Epoch 18/50\n",
            "50/50 [==============================] - 0s 7ms/step - loss: 0.0409 - accuracy: 1.0000 - val_loss: 0.0366 - val_accuracy: 1.0000\n",
            "Epoch 19/50\n",
            "50/50 [==============================] - 1s 11ms/step - loss: 0.0353 - accuracy: 1.0000 - val_loss: 0.0333 - val_accuracy: 1.0000\n",
            "Epoch 20/50\n",
            "50/50 [==============================] - 0s 10ms/step - loss: 0.0320 - accuracy: 1.0000 - val_loss: 0.0311 - val_accuracy: 1.0000\n",
            "Epoch 21/50\n",
            "50/50 [==============================] - 1s 11ms/step - loss: 0.0286 - accuracy: 1.0000 - val_loss: 0.0271 - val_accuracy: 1.0000\n",
            "Epoch 22/50\n",
            "50/50 [==============================] - 1s 12ms/step - loss: 0.0245 - accuracy: 1.0000 - val_loss: 0.0240 - val_accuracy: 1.0000\n",
            "Epoch 23/50\n",
            "50/50 [==============================] - 0s 7ms/step - loss: 0.0222 - accuracy: 1.0000 - val_loss: 0.0216 - val_accuracy: 1.0000\n",
            "Epoch 24/50\n",
            "50/50 [==============================] - 0s 7ms/step - loss: 0.0195 - accuracy: 1.0000 - val_loss: 0.0200 - val_accuracy: 1.0000\n",
            "Epoch 25/50\n",
            "50/50 [==============================] - 0s 7ms/step - loss: 0.0183 - accuracy: 1.0000 - val_loss: 0.0178 - val_accuracy: 1.0000\n",
            "Epoch 26/50\n",
            "50/50 [==============================] - 0s 7ms/step - loss: 0.0165 - accuracy: 1.0000 - val_loss: 0.0166 - val_accuracy: 1.0000\n",
            "Epoch 27/50\n",
            "50/50 [==============================] - 0s 7ms/step - loss: 0.0151 - accuracy: 1.0000 - val_loss: 0.0147 - val_accuracy: 1.0000\n",
            "Epoch 28/50\n",
            "50/50 [==============================] - 0s 7ms/step - loss: 0.0137 - accuracy: 1.0000 - val_loss: 0.0131 - val_accuracy: 1.0000\n",
            "Epoch 29/50\n",
            "50/50 [==============================] - 0s 7ms/step - loss: 0.0124 - accuracy: 1.0000 - val_loss: 0.0115 - val_accuracy: 1.0000\n",
            "Epoch 30/50\n",
            "50/50 [==============================] - 0s 7ms/step - loss: 0.0119 - accuracy: 1.0000 - val_loss: 0.0115 - val_accuracy: 1.0000\n",
            "Epoch 31/50\n",
            "50/50 [==============================] - 0s 7ms/step - loss: 0.0105 - accuracy: 1.0000 - val_loss: 0.0101 - val_accuracy: 1.0000\n",
            "Epoch 32/50\n",
            "50/50 [==============================] - 0s 7ms/step - loss: 0.0098 - accuracy: 1.0000 - val_loss: 0.0093 - val_accuracy: 1.0000\n",
            "Epoch 33/50\n",
            "50/50 [==============================] - 0s 8ms/step - loss: 0.0089 - accuracy: 1.0000 - val_loss: 0.0085 - val_accuracy: 1.0000\n",
            "Epoch 34/50\n",
            "50/50 [==============================] - 0s 7ms/step - loss: 0.0083 - accuracy: 1.0000 - val_loss: 0.0077 - val_accuracy: 1.0000\n",
            "Epoch 35/50\n",
            "50/50 [==============================] - 0s 7ms/step - loss: 0.0077 - accuracy: 1.0000 - val_loss: 0.0076 - val_accuracy: 1.0000\n",
            "Epoch 36/50\n",
            "50/50 [==============================] - 0s 8ms/step - loss: 0.0073 - accuracy: 1.0000 - val_loss: 0.0071 - val_accuracy: 1.0000\n",
            "Epoch 37/50\n",
            "50/50 [==============================] - 0s 7ms/step - loss: 0.0067 - accuracy: 1.0000 - val_loss: 0.0064 - val_accuracy: 1.0000\n",
            "Epoch 38/50\n",
            "50/50 [==============================] - 0s 7ms/step - loss: 0.0063 - accuracy: 1.0000 - val_loss: 0.0063 - val_accuracy: 1.0000\n",
            "Epoch 39/50\n",
            "50/50 [==============================] - 0s 8ms/step - loss: 0.0060 - accuracy: 1.0000 - val_loss: 0.0057 - val_accuracy: 1.0000\n",
            "Epoch 40/50\n",
            "50/50 [==============================] - 0s 7ms/step - loss: 0.0055 - accuracy: 1.0000 - val_loss: 0.0054 - val_accuracy: 1.0000\n",
            "Epoch 41/50\n",
            "50/50 [==============================] - 0s 7ms/step - loss: 0.0053 - accuracy: 1.0000 - val_loss: 0.0052 - val_accuracy: 1.0000\n",
            "Epoch 42/50\n",
            "50/50 [==============================] - 0s 7ms/step - loss: 0.0049 - accuracy: 1.0000 - val_loss: 0.0048 - val_accuracy: 1.0000\n",
            "Epoch 43/50\n",
            "50/50 [==============================] - 0s 7ms/step - loss: 0.0047 - accuracy: 1.0000 - val_loss: 0.0045 - val_accuracy: 1.0000\n",
            "Epoch 44/50\n",
            "50/50 [==============================] - 0s 8ms/step - loss: 0.0044 - accuracy: 1.0000 - val_loss: 0.0043 - val_accuracy: 1.0000\n",
            "Epoch 45/50\n",
            "50/50 [==============================] - 0s 7ms/step - loss: 0.0042 - accuracy: 1.0000 - val_loss: 0.0041 - val_accuracy: 1.0000\n",
            "Epoch 46/50\n",
            "50/50 [==============================] - 0s 7ms/step - loss: 0.0039 - accuracy: 1.0000 - val_loss: 0.0039 - val_accuracy: 1.0000\n",
            "Epoch 47/50\n",
            "50/50 [==============================] - 0s 7ms/step - loss: 0.0037 - accuracy: 1.0000 - val_loss: 0.0036 - val_accuracy: 1.0000\n",
            "Epoch 48/50\n",
            "50/50 [==============================] - 0s 7ms/step - loss: 0.0036 - accuracy: 1.0000 - val_loss: 0.0035 - val_accuracy: 1.0000\n",
            "Epoch 49/50\n",
            "50/50 [==============================] - 0s 7ms/step - loss: 0.0033 - accuracy: 1.0000 - val_loss: 0.0033 - val_accuracy: 1.0000\n",
            "Epoch 50/50\n",
            "50/50 [==============================] - 1s 10ms/step - loss: 0.0031 - accuracy: 1.0000 - val_loss: 0.0031 - val_accuracy: 1.0000\n"
          ]
        }
      ]
    },
    {
      "cell_type": "code",
      "source": [
        "!wget https://www.gutenberg.org/cache/epub/46144/pg46144.txt"
      ],
      "metadata": {
        "id": "hPXUuYZp2fNB",
        "colab": {
          "base_uri": "https://localhost:8080/"
        },
        "outputId": "6eee2299-f684-428d-d780-2d3578a6d042"
      },
      "execution_count": null,
      "outputs": [
        {
          "output_type": "stream",
          "name": "stdout",
          "text": [
            "--2024-04-01 19:09:22--  https://www.gutenberg.org/cache/epub/46144/pg46144.txt\n",
            "Resolving www.gutenberg.org (www.gutenberg.org)... 152.19.134.47, 2610:28:3090:3000:0:bad:cafe:47\n",
            "Connecting to www.gutenberg.org (www.gutenberg.org)|152.19.134.47|:443... connected.\n",
            "HTTP request sent, awaiting response... 200 OK\n",
            "Length: 125798 (123K) [text/plain]\n",
            "Saving to: ‘pg46144.txt.1’\n",
            "\n",
            "pg46144.txt.1       100%[===================>] 122.85K   463KB/s    in 0.3s    \n",
            "\n",
            "2024-04-01 19:09:23 (463 KB/s) - ‘pg46144.txt.1’ saved [125798/125798]\n",
            "\n"
          ]
        }
      ]
    },
    {
      "cell_type": "code",
      "source": [
        "!head pg46144.txt > pg46144_head.txt"
      ],
      "metadata": {
        "id": "jNfsh8EE-ilI"
      },
      "execution_count": null,
      "outputs": []
    },
    {
      "cell_type": "code",
      "source": [
        "with open('pg46144_head.txt') as f:\n",
        "  for line in f:\n",
        "    if line.isspace(): continue\n",
        "    batch = prepare_for_rnn(encode_one_hot(line))\n",
        "    preds = model.predict(batch)\n",
        "    normal = decode_one_hot(preds)\n",
        "    print(normal, \" /// \",line)"
      ],
      "metadata": {
        "id": "yQ4dpLvW9zct",
        "colab": {
          "base_uri": "https://localhost:8080/"
        },
        "outputId": "12a8f09b-4117-4f7c-83e1-932d35394cea"
      },
      "execution_count": null,
      "outputs": [
        {
          "output_type": "stream",
          "name": "stdout",
          "text": [
            "2/2 [==============================] - 0s 5ms/step\n",
            "the project gutenberg ebook of six cups of coffee  ///  ﻿The Project Gutenberg eBook of Six Cups of Coffee\n",
            "\n",
            "3/3 [==============================] - 0s 3ms/step\n",
            "his ebook is for the use of anyone anywhere in the united states and  ///  This ebook is for the use of anyone anywhere in the United States and\n",
            "\n",
            "3/3 [==============================] - 0s 3ms/step\n",
            "ost other parts of the world at no cost and with almost no restrictions  ///  most other parts of the world at no cost and with almost no restrictions\n",
            "\n",
            "3/3 [==============================] - 0s 3ms/step\n",
            "hatsoever  you may copy it  give it away or re use it under the terms  ///  whatsoever. You may copy it, give it away or re-use it under the terms\n",
            "\n",
            "3/3 [==============================] - 0s 3ms/step\n",
            "f the project gutenberg license included with this ebook or online  ///  of the Project Gutenberg License included with this ebook or online\n",
            "\n",
            "3/3 [==============================] - 0s 3ms/step\n",
            "t www gutenberg org  if you are not located in the united states   ///  at www.gutenberg.org. If you are not located in the United States,\n",
            "\n",
            "3/3 [==============================] - 0s 4ms/step\n",
            "ou will have to check the laws of the country where you are located  ///  you will have to check the laws of the country where you are located\n",
            "\n",
            "1/1 [==============================] - 0s 55ms/step\n",
            "efore using this ebook   ///  before using this eBook.\n",
            "\n"
          ]
        }
      ]
    },
    {
      "cell_type": "code",
      "source": [],
      "metadata": {
        "id": "SrXFYCza02lc"
      },
      "execution_count": null,
      "outputs": []
    }
  ]
}