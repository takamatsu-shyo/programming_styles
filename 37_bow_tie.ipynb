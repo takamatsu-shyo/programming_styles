{
  "nbformat": 4,
  "nbformat_minor": 0,
  "metadata": {
    "colab": {
      "provenance": []
    },
    "kernelspec": {
      "name": "python3",
      "display_name": "Python 3"
    },
    "language_info": {
      "name": "python"
    }
  },
  "cells": [
    {
      "cell_type": "code",
      "execution_count": null,
      "metadata": {
        "colab": {
          "base_uri": "https://localhost:8080/"
        },
        "id": "R87HBF9MyRdb",
        "outputId": "e068367b-aaee-4835-ebaa-e67fe8065a41"
      },
      "outputs": [
        {
          "output_type": "stream",
          "name": "stdout",
          "text": [
            "Hei!\n"
          ]
        }
      ],
      "source": [
        "print(\"Hei!\")"
      ]
    },
    {
      "cell_type": "code",
      "source": [
        "from keras.models import Sequential\n",
        "from keras.layers import Dense, Activation, Multiply, ReLU, Lambda"
      ],
      "metadata": {
        "id": "kEIle9IkyWxl"
      },
      "execution_count": null,
      "outputs": []
    },
    {
      "cell_type": "code",
      "source": [
        "import keras.backend as k\n",
        "import numpy as np\n",
        "import sys, os, string, random"
      ],
      "metadata": {
        "id": "zOViJSHCyisG"
      },
      "execution_count": null,
      "outputs": []
    },
    {
      "cell_type": "code",
      "source": [
        "characters = string.printable\n",
        "char_indices = dict((c, i) for i, c in enumerate(characters))\n",
        "indices_char = dict((i, c) for i, c in enumerate(characters))"
      ],
      "metadata": {
        "id": "S4tQCcIQyz56"
      },
      "execution_count": null,
      "outputs": []
    },
    {
      "cell_type": "code",
      "source": [
        "INPUT_VOCAB_SIZE = len(characters)\n",
        "BATCH_SIZE = 200"
      ],
      "metadata": {
        "id": "qn5ArGvXzQ0L"
      },
      "execution_count": null,
      "outputs": []
    },
    {
      "cell_type": "code",
      "source": [
        "def encode_one_hot(line):\n",
        "  x = np.zeros((len(line), INPUT_VOCAB_SIZE))\n",
        "  for i, c in enumerate(line):\n",
        "    index = char_indices[c] if c in characters else char_indices[' ']\n",
        "    x[i][index] = 1\n",
        "  return x"
      ],
      "metadata": {
        "id": "5NiXikfmzB_r"
      },
      "execution_count": null,
      "outputs": []
    },
    {
      "cell_type": "code",
      "source": [
        "def encode_values(line):\n",
        "  x = np.zeros((len(line), INPUT_VOCAB_SIZE))\n",
        "  for i, c in enumerate(line):\n",
        "    index = char_indices[c] if c in characters else char_indices[' ']\n",
        "    for a_c in characters:\n",
        "      if a_c == c:\n",
        "        x[i][index] = 1\n",
        "      else:\n",
        "        idx = char_indices[a_c]\n",
        "        x[i][idx] = idx/index\n",
        "    return x"
      ],
      "metadata": {
        "id": "kvuoCOEpzLHP"
      },
      "execution_count": null,
      "outputs": []
    },
    {
      "cell_type": "code",
      "source": [
        "def decode_values(x):\n",
        "  s = []\n",
        "  for onehot in x:\n",
        "    one_index = (np.abs(onehot - 1)).argmin()\n",
        "    s.append(indices_char[one_index])\n",
        "  return ''.join(s)"
      ],
      "metadata": {
        "id": "gOLpK_XY0Ir4"
      },
      "execution_count": null,
      "outputs": []
    },
    {
      "cell_type": "code",
      "source": [
        "def build_model():\n",
        "  model = Sequential()\n",
        "  model.add(Dense(1, input_shape=(INPUT_VOCAB_SIZE,)))\n",
        "  model.add(Dense(INPUT_VOCAB_SIZE))\n",
        "  return model"
      ],
      "metadata": {
        "id": "5au0taBK0ZRl"
      },
      "execution_count": null,
      "outputs": []
    },
    {
      "cell_type": "code",
      "source": [
        "def input_generator(nsamples):\n",
        "  def generate_line():\n",
        "    inline = []; outline = []\n",
        "    for _ in range(nsamples):\n",
        "      c = random.choice(characters)\n",
        "      expected = c.lower() if c in string.ascii_letters else ' '\n",
        "      inline.append(c); outline.append(expected)\n",
        "    return ''.join(inline), ''.join(outline)\n",
        "\n",
        "  while True:\n",
        "    input_data, expected = generate_line()\n",
        "    data_in = encode_one_hot(input_data)\n",
        "    data_out = encode_values(expected)\n",
        "    yield data_in, data_out"
      ],
      "metadata": {
        "id": "YK-ngRtS0s1K"
      },
      "execution_count": null,
      "outputs": []
    },
    {
      "cell_type": "code",
      "source": [
        "def train(model):\n",
        "  model.compile(loss='mse',\n",
        "                optimizer='adam',\n",
        "                metrics=['accuracy', 'mse'])\n",
        "  print(\"compiled\")\n",
        "\n",
        "  input_gen = input_generator(BATCH_SIZE)\n",
        "  validation_gen = input_generator(BATCH_SIZE)\n",
        "  print(\"data is generated\")\n",
        "\n",
        "  model.fit(input_gen,\n",
        "            epochs = 10, workers=1,\n",
        "            steps_per_epoch = 1000,\n",
        "            validation_data = validation_gen,\n",
        "            validation_steps = 10)"
      ],
      "metadata": {
        "id": "kuDWKJpZ15R4"
      },
      "execution_count": null,
      "outputs": []
    },
    {
      "cell_type": "code",
      "source": [
        "model = build_model()"
      ],
      "metadata": {
        "id": "63V6h0vN2XWT"
      },
      "execution_count": null,
      "outputs": []
    },
    {
      "cell_type": "code",
      "source": [
        "model.summary()"
      ],
      "metadata": {
        "colab": {
          "base_uri": "https://localhost:8080/"
        },
        "id": "21mrA_ot2Y7i",
        "outputId": "344e3ce3-21ea-49b8-8c21-fae2e1b8aefe"
      },
      "execution_count": null,
      "outputs": [
        {
          "output_type": "stream",
          "name": "stdout",
          "text": [
            "Model: \"sequential\"\n",
            "_________________________________________________________________\n",
            " Layer (type)                Output Shape              Param #   \n",
            "=================================================================\n",
            " dense (Dense)               (None, 1)                 101       \n",
            "                                                                 \n",
            " dense_1 (Dense)             (None, 100)               200       \n",
            "                                                                 \n",
            "=================================================================\n",
            "Total params: 301 (1.18 KB)\n",
            "Trainable params: 301 (1.18 KB)\n",
            "Non-trainable params: 0 (0.00 Byte)\n",
            "_________________________________________________________________\n"
          ]
        }
      ]
    },
    {
      "cell_type": "code",
      "source": [
        "train(model)"
      ],
      "metadata": {
        "colab": {
          "base_uri": "https://localhost:8080/"
        },
        "id": "HoVkGSxF2bsX",
        "outputId": "236a3dfd-fec1-464b-e174-9722401794e2"
      },
      "execution_count": null,
      "outputs": [
        {
          "output_type": "stream",
          "name": "stdout",
          "text": [
            "compiled\n",
            "data is generated\n",
            "Epoch 1/10\n",
            "1000/1000 [==============================] - 7s 6ms/step - loss: 0.0249 - accuracy: 0.0026 - mse: 0.0249 - val_loss: 0.0200 - val_accuracy: 0.0025 - val_mse: 0.0200\n",
            "Epoch 2/10\n",
            "1000/1000 [==============================] - 7s 7ms/step - loss: 0.0264 - accuracy: 0.0039 - mse: 0.0264 - val_loss: 0.0249 - val_accuracy: 0.0050 - val_mse: 0.0249\n",
            "Epoch 3/10\n",
            "1000/1000 [==============================] - 6s 6ms/step - loss: 0.0250 - accuracy: 0.0048 - mse: 0.0250 - val_loss: 0.0327 - val_accuracy: 0.0050 - val_mse: 0.0327\n",
            "Epoch 4/10\n",
            "1000/1000 [==============================] - 3s 3ms/step - loss: 0.0279 - accuracy: 0.0048 - mse: 0.0279 - val_loss: 0.0180 - val_accuracy: 0.0050 - val_mse: 0.0180\n",
            "Epoch 5/10\n",
            "1000/1000 [==============================] - 4s 4ms/step - loss: 0.0259 - accuracy: 0.0049 - mse: 0.0259 - val_loss: 0.0535 - val_accuracy: 0.0045 - val_mse: 0.0535\n",
            "Epoch 6/10\n",
            "1000/1000 [==============================] - 4s 4ms/step - loss: 0.0249 - accuracy: 0.0049 - mse: 0.0249 - val_loss: 0.0190 - val_accuracy: 0.0050 - val_mse: 0.0190\n",
            "Epoch 7/10\n",
            "1000/1000 [==============================] - 3s 3ms/step - loss: 0.0256 - accuracy: 0.0048 - mse: 0.0256 - val_loss: 0.0182 - val_accuracy: 0.0050 - val_mse: 0.0182\n",
            "Epoch 8/10\n",
            "1000/1000 [==============================] - 3s 3ms/step - loss: 0.0255 - accuracy: 0.0050 - mse: 0.0255 - val_loss: 0.0100 - val_accuracy: 0.0040 - val_mse: 0.0100\n",
            "Epoch 9/10\n",
            "1000/1000 [==============================] - 3s 3ms/step - loss: 0.0247 - accuracy: 0.0048 - mse: 0.0247 - val_loss: 0.0151 - val_accuracy: 0.0050 - val_mse: 0.0151\n",
            "Epoch 10/10\n",
            "1000/1000 [==============================] - 4s 4ms/step - loss: 0.0241 - accuracy: 0.0049 - mse: 0.0241 - val_loss: 0.0254 - val_accuracy: 0.0050 - val_mse: 0.0254\n"
          ]
        }
      ]
    },
    {
      "cell_type": "code",
      "source": [
        "!wget https://www.gutenberg.org/cache/epub/46144/pg46144.txt"
      ],
      "metadata": {
        "colab": {
          "base_uri": "https://localhost:8080/"
        },
        "id": "hPXUuYZp2fNB",
        "outputId": "f7a64082-8dab-4f9a-b371-71b4b9b686b7"
      },
      "execution_count": null,
      "outputs": [
        {
          "output_type": "stream",
          "name": "stdout",
          "text": [
            "--2024-03-27 20:10:25--  https://www.gutenberg.org/cache/epub/46144/pg46144.txt\n",
            "Resolving www.gutenberg.org (www.gutenberg.org)... 152.19.134.47, 2610:28:3090:3000:0:bad:cafe:47\n",
            "Connecting to www.gutenberg.org (www.gutenberg.org)|152.19.134.47|:443... connected.\n",
            "HTTP request sent, awaiting response... 200 OK\n",
            "Length: 125798 (123K) [text/plain]\n",
            "Saving to: ‘pg46144.txt’\n",
            "\n",
            "pg46144.txt         100%[===================>] 122.85K   233KB/s    in 0.5s    \n",
            "\n",
            "2024-03-27 20:10:27 (233 KB/s) - ‘pg46144.txt’ saved [125798/125798]\n",
            "\n"
          ]
        }
      ]
    },
    {
      "cell_type": "code",
      "source": [
        "!head pg46144.txt > pg46144_head.txt"
      ],
      "metadata": {
        "id": "jNfsh8EE-ilI"
      },
      "execution_count": null,
      "outputs": []
    },
    {
      "cell_type": "code",
      "source": [
        "with open('pg46144_head.txt') as f:\n",
        "  for line in f:\n",
        "    if line.isspace(): continue\n",
        "    batch = encode_one_hot(line)\n",
        "    preds = model.predict(batch)\n",
        "    normal = decode_values(preds)\n",
        "    print(normal, line)"
      ],
      "metadata": {
        "colab": {
          "base_uri": "https://localhost:8080/"
        },
        "id": "yQ4dpLvW9zct",
        "outputId": "9ce10502-9489-4c8d-ec00-cd8242bbd5e4"
      },
      "execution_count": null,
      "outputs": [
        {
          "output_type": "stream",
          "name": "stdout",
          "text": [
            "2/2 [==============================] - 0s 5ms/step\n",
            "\f\f\f\f\f\f\f\f\f\f\f\f\f\f\f\f\f\f\f\f\f\f\f\f\f\f\f\f\f\f\f\f\f\f\f\f\f\f\f\f\f\f\f\f\f\f\f\f\f\f\f ﻿The Project Gutenberg eBook of Six Cups of Coffee\n",
            "\n",
            "3/3 [==============================] - 0s 4ms/step\n",
            "\f\f\f\f\f\f\f\f\f\f\f\f\f\f\f\f\f\f\f\f\f\f\f\f\f\f\f\f\f\f\f\f\f\f\f\f\f\f\f\f\f\f\f\f\f\f\f\f\f\f\f\f\f\f\f\f\f\f\f\f\f\f\f\f\f\f\f\f\f\f This ebook is for the use of anyone anywhere in the United States and\n",
            "\n",
            "3/3 [==============================] - 0s 4ms/step\n",
            "\f\f\f\f\f\f\f\f\f\f\f\f\f\f\f\f\f\f\f\f\f\f\f\f\f\f\f\f\f\f\f\f\f\f\f\f\f\f\f\f\f\f\f\f\f\f\f\f\f\f\f\f\f\f\f\f\f\f\f\f\f\f\f\f\f\f\f\f\f\f\f\f\f most other parts of the world at no cost and with almost no restrictions\n",
            "\n",
            "3/3 [==============================] - 0s 4ms/step\n",
            "\f\f\f\f\f\f\f\f\f\f\f\f\f\f\f\f\f\f\f\f\f\f\f\f\f\f\f\f\f\f\f\f\f\f\f\f\f\f\f\f\f\f\f\f\f\f\f\f\f\f\f\f\f\f\f\f\f\f\f\f\f\f\f\f\f\f\f\f\f\f\f whatsoever. You may copy it, give it away or re-use it under the terms\n",
            "\n",
            "3/3 [==============================] - 0s 3ms/step\n",
            "\f\f\f\f\f\f\f\f\f\f\f\f\f\f\f\f\f\f\f\f\f\f\f\f\f\f\f\f\f\f\f\f\f\f\f\f\f\f\f\f\f\f\f\f\f\f\f\f\f\f\f\f\f\f\f\f\f\f\f\f\f\f\f\f\f\f\f\f of the Project Gutenberg License included with this ebook or online\n",
            "\n",
            "3/3 [==============================] - 0s 3ms/step\n",
            "\f\f\f\f\f\f\f\f\f\f\f\f\f\f\f\f\f\f\f\f\f\f\f\f\f\f\f\f\f\f\f\f\f\f\f\f\f\f\f\f\f\f\f\f\f\f\f\f\f\f\f\f\f\f\f\f\f\f\f\f\f\f\f\f\f\f\f at www.gutenberg.org. If you are not located in the United States,\n",
            "\n",
            "3/3 [==============================] - 0s 4ms/step\n",
            "\f\f\f\f\f\f\f\f\f\f\f\f\f\f\f\f\f\f\f\f\f\f\f\f\f\f\f\f\f\f\f\f\f\f\f\f\f\f\f\f\f\f\f\f\f\f\f\f\f\f\f\f\f\f\f\f\f\f\f\f\f\f\f\f\f\f\f\f\f you will have to check the laws of the country where you are located\n",
            "\n",
            "1/1 [==============================] - 0s 20ms/step\n",
            "\f\f\f\f\f\f\f\f\f\f\f\f\f\f\f\f\f\f\f\f\f\f\f\f\f before using this eBook.\n",
            "\n"
          ]
        }
      ]
    },
    {
      "cell_type": "code",
      "source": [],
      "metadata": {
        "id": "NWmrJJgt-HrK"
      },
      "execution_count": null,
      "outputs": []
    }
  ]
}