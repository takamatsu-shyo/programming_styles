{
  "cells": [
    {
      "cell_type": "code",
      "execution_count": null,
      "metadata": {
        "id": "kEIle9IkyWxl"
      },
      "outputs": [],
      "source": [
        "from keras.models import Sequential\n",
        "from keras.layers import Dense\n",
        "from keras.losses import binary_crossentropy, categorical_crossentropy"
      ]
    },
    {
      "cell_type": "code",
      "execution_count": null,
      "metadata": {
        "id": "zOViJSHCyisG"
      },
      "outputs": [],
      "source": [
        "from keras.optimizers import SGD\n",
        "from keras.metrics import top_k_categorical_accuracy\n",
        "import keras.backend as k\n",
        "import numpy as np\n",
        "import sys, os, string, random"
      ]
    },
    {
      "cell_type": "code",
      "execution_count": null,
      "metadata": {
        "id": "S4tQCcIQyz56"
      },
      "outputs": [],
      "source": [
        "characters = string.printable\n",
        "char_indices = dict((c, i) for i, c in enumerate(characters))\n",
        "indices_char = dict((i, c) for i, c in enumerate(characters))"
      ]
    },
    {
      "cell_type": "code",
      "execution_count": null,
      "metadata": {
        "id": "qn5ArGvXzQ0L"
      },
      "outputs": [],
      "source": [
        "INPUT_VOCAB_SIZE = len(characters)\n",
        "LINE_SIZE = 80\n",
        "BATCH_SIZE = 200\n",
        "STEP_PER_EPOCH = 5000\n",
        "EPOCHS = 4"
      ]
    },
    {
      "cell_type": "code",
      "execution_count": null,
      "metadata": {
        "id": "5NiXikfmzB_r"
      },
      "outputs": [],
      "source": [
        "def encode_one_hot(line):\n",
        "  x = np.zeros((1, LINE_SIZE * INPUT_VOCAB_SIZE))\n",
        "  sp_idx = char_indices[' ']\n",
        "  for i, c in enumerate(line):\n",
        "    index = char_indices[c] if c in characters else sp_idx\n",
        "    x[0][index] = 1\n",
        "  for i in range(len(line), LINE_SIZE):\n",
        "    x[0][i][sp_idx] = 1\n",
        "  return x.reshape([1, LINE_SIZE * INPUT_VOCAB_SIZE])"
      ]
    },
    {
      "cell_type": "code",
      "execution_count": null,
      "metadata": {
        "id": "gOLpK_XY0Ir4"
      },
      "outputs": [],
      "source": [
        "def decode_one_hot(y):\n",
        "  s = []\n",
        "  x = y.reshape([1, LINE_SIZE, INPUT_VOCAB_SIZE])\n",
        "  for onehot in x[0]:\n",
        "    one_index = np.argmax(onehot)\n",
        "    s.append(indices_char[one_index])\n",
        "  return ''.join(s)"
      ]
    },
    {
      "cell_type": "code",
      "execution_count": null,
      "metadata": {
        "id": "YK-ngRtS0s1K"
      },
      "outputs": [],
      "source": [
        "def input_generator(nsamples):\n",
        "  def generate_line():\n",
        "    inline = []; outline = []\n",
        "    for _ in range(nsamples):\n",
        "      c = random.choice(characters)\n",
        "      expected = c.lower() if c in string.ascii_letters else ' '\n",
        "      inline.append(c); outline.append(expected)\n",
        "    for i in range(LINE_SIZE):\n",
        "      if outline[i] == ' ': continue\n",
        "      if i > 0 and i < LINE_SIZE - 1:\n",
        "        outline[i] = ' ' if outline[i-1] == ' ' and outline[i+1] == ' '  else outline[i]\n",
        "      if (i == 0 and outline[i+1] == ' ') or (i == LINE_SIZE-1 and outline[i-1] == ' '):\n",
        "        outline[i] = ' '\n",
        "    return ''.join(inline), ''.join(outline)\n",
        "\n",
        "  while True:\n",
        "    data_in = np.zeros((nsamples, LINE_SIZE * INPUT_VOCAB_SIZE))\n",
        "    data_out = np.zeros((nsamples, LINE_SIZE* INPUT_VOCAB_SIZE))\n",
        "    for i in range(nsamples):\n",
        "      input_data, expected = generate_line()\n",
        "      data_in[i] = encode_one_hot(input_data)[0]\n",
        "      data_out[i] = encode_one_hot(expected)[0]\n",
        "    yield data_in, data_out"
      ]
    },
    {
      "cell_type": "code",
      "execution_count": null,
      "metadata": {
        "id": "kuDWKJpZ15R4"
      },
      "outputs": [],
      "source": [
        "def train(model):\n",
        "  model.compile(loss='binary_crossentropy',\n",
        "                optimizer='adam',\n",
        "                metrics=['accuracy'])\n",
        "  print(\"compiled\")\n",
        "\n",
        "  input_gen = input_generator(BATCH_SIZE)\n",
        "  validation_gen = input_generator(BATCH_SIZE)\n",
        "  print(\"data is generated\")\n",
        "\n",
        "  model.fit(input_gen,\n",
        "            epochs = EPOCHS, workers=1,\n",
        "            steps_per_epoch = STEP_PER_EPOCH,\n",
        "            validation_data = validation_gen,\n",
        "            validation_steps = 10)"
      ]
    },
    {
      "cell_type": "code",
      "execution_count": null,
      "metadata": {
        "id": "_XZbM-PWlYC9"
      },
      "outputs": [],
      "source": [
        "def build_model():\n",
        "  model = Sequential()\n",
        "  model.add(Dense(LINE_SIZE * INPUT_VOCAB_SIZE,\n",
        "                  input_shape=(LINE_SIZE * INPUT_VOCAB_SIZE,),\n",
        "                  activation='sigmoid'))\n",
        "  return model"
      ]
    },
    {
      "cell_type": "code",
      "execution_count": null,
      "metadata": {
        "id": "CExDsDS0lzVf"
      },
      "outputs": [],
      "source": [
        "def build_deep_model():\n",
        "  model = Sequential()\n",
        "  model.add(Dense(80,\n",
        "                  input_shape=(LINE_SIZE*INPUT_VOCAB_SIZE,),\n",
        "                  activation='sigmoid'))\n",
        "  model.add(Dense(800, activation='sigmoid'))\n",
        "  model.add(Dense(LINE_SIZE*INPUT_VOCAB_SIZE, activation='sigmoid'))\n",
        "  return model"
      ]
    },
    {
      "cell_type": "code",
      "execution_count": null,
      "metadata": {
        "id": "63V6h0vN2XWT"
      },
      "outputs": [],
      "source": [
        "model = build_deep_model()"
      ]
    },
    {
      "cell_type": "code",
      "execution_count": null,
      "metadata": {
        "colab": {
          "base_uri": "https://localhost:8080/"
        },
        "id": "21mrA_ot2Y7i",
        "outputId": "625a09d3-979d-4c4e-bbbe-8e80f2b87dce"
      },
      "outputs": [
        {
          "name": "stdout",
          "output_type": "stream",
          "text": [
            "Model: \"sequential_1\"\n",
            "_________________________________________________________________\n",
            " Layer (type)                Output Shape              Param #   \n",
            "=================================================================\n",
            " dense_3 (Dense)             (None, 80)                640080    \n",
            "                                                                 \n",
            " dense_4 (Dense)             (None, 800)               64800     \n",
            "                                                                 \n",
            " dense_5 (Dense)             (None, 8000)              6408000   \n",
            "                                                                 \n",
            "=================================================================\n",
            "Total params: 7112880 (27.13 MB)\n",
            "Trainable params: 7112880 (27.13 MB)\n",
            "Non-trainable params: 0 (0.00 Byte)\n",
            "_________________________________________________________________\n"
          ]
        }
      ],
      "source": [
        "model.summary()"
      ]
    },
    {
      "cell_type": "code",
      "execution_count": null,
      "metadata": {
        "colab": {
          "background_save": true,
          "base_uri": "https://localhost:8080/"
        },
        "id": "HoVkGSxF2bsX",
        "outputId": "a259e969-ca69-4f11-a4f4-a68e1a0d57d3"
      },
      "outputs": [
        {
          "name": "stdout",
          "output_type": "stream",
          "text": [
            "compiled\n",
            "data is generated\n",
            "Epoch 1/4\n",
            " 317/5000 [>.............................] - ETA: 28:16 - loss: 0.0087 - accuracy: 0.0000e+00"
          ]
        }
      ],
      "source": [
        "train(model)"
      ]
    },
    {
      "cell_type": "code",
      "execution_count": null,
      "metadata": {
        "colab": {
          "base_uri": "https://localhost:8080/"
        },
        "id": "hPXUuYZp2fNB",
        "outputId": "f7a64082-8dab-4f9a-b371-71b4b9b686b7"
      },
      "outputs": [
        {
          "name": "stdout",
          "output_type": "stream",
          "text": [
            "--2024-03-27 20:10:25--  https://www.gutenberg.org/cache/epub/46144/pg46144.txt\n",
            "Resolving www.gutenberg.org (www.gutenberg.org)... 152.19.134.47, 2610:28:3090:3000:0:bad:cafe:47\n",
            "Connecting to www.gutenberg.org (www.gutenberg.org)|152.19.134.47|:443... connected.\n",
            "HTTP request sent, awaiting response... 200 OK\n",
            "Length: 125798 (123K) [text/plain]\n",
            "Saving to: ‘pg46144.txt’\n",
            "\n",
            "pg46144.txt         100%[===================>] 122.85K   233KB/s    in 0.5s    \n",
            "\n",
            "2024-03-27 20:10:27 (233 KB/s) - ‘pg46144.txt’ saved [125798/125798]\n",
            "\n"
          ]
        }
      ],
      "source": [
        "!wget https://www.gutenberg.org/cache/epub/46144/pg46144.txt"
      ]
    },
    {
      "cell_type": "code",
      "execution_count": null,
      "metadata": {
        "id": "jNfsh8EE-ilI"
      },
      "outputs": [],
      "source": [
        "!head pg46144.txt > pg46144_head.txt"
      ]
    },
    {
      "cell_type": "code",
      "execution_count": null,
      "metadata": {
        "colab": {
          "base_uri": "https://localhost:8080/"
        },
        "id": "yQ4dpLvW9zct",
        "outputId": "9ce10502-9489-4c8d-ec00-cd8242bbd5e4"
      },
      "outputs": [
        {
          "name": "stdout",
          "output_type": "stream",
          "text": [
            "2/2 [==============================] - 0s 5ms/step\n",
            "\f\f\f\f\f\f\f\f\f\f\f\f\f\f\f\f\f\f\f\f\f\f\f\f\f\f\f\f\f\f\f\f\f\f\f\f\f\f\f\f\f\f\f\f\f\f\f\f\f\f\f ﻿The Project Gutenberg eBook of Six Cups of Coffee\n",
            "\n",
            "3/3 [==============================] - 0s 4ms/step\n",
            "\f\f\f\f\f\f\f\f\f\f\f\f\f\f\f\f\f\f\f\f\f\f\f\f\f\f\f\f\f\f\f\f\f\f\f\f\f\f\f\f\f\f\f\f\f\f\f\f\f\f\f\f\f\f\f\f\f\f\f\f\f\f\f\f\f\f\f\f\f\f This ebook is for the use of anyone anywhere in the United States and\n",
            "\n",
            "3/3 [==============================] - 0s 4ms/step\n",
            "\f\f\f\f\f\f\f\f\f\f\f\f\f\f\f\f\f\f\f\f\f\f\f\f\f\f\f\f\f\f\f\f\f\f\f\f\f\f\f\f\f\f\f\f\f\f\f\f\f\f\f\f\f\f\f\f\f\f\f\f\f\f\f\f\f\f\f\f\f\f\f\f\f most other parts of the world at no cost and with almost no restrictions\n",
            "\n",
            "3/3 [==============================] - 0s 4ms/step\n",
            "\f\f\f\f\f\f\f\f\f\f\f\f\f\f\f\f\f\f\f\f\f\f\f\f\f\f\f\f\f\f\f\f\f\f\f\f\f\f\f\f\f\f\f\f\f\f\f\f\f\f\f\f\f\f\f\f\f\f\f\f\f\f\f\f\f\f\f\f\f\f\f whatsoever. You may copy it, give it away or re-use it under the terms\n",
            "\n",
            "3/3 [==============================] - 0s 3ms/step\n",
            "\f\f\f\f\f\f\f\f\f\f\f\f\f\f\f\f\f\f\f\f\f\f\f\f\f\f\f\f\f\f\f\f\f\f\f\f\f\f\f\f\f\f\f\f\f\f\f\f\f\f\f\f\f\f\f\f\f\f\f\f\f\f\f\f\f\f\f\f of the Project Gutenberg License included with this ebook or online\n",
            "\n",
            "3/3 [==============================] - 0s 3ms/step\n",
            "\f\f\f\f\f\f\f\f\f\f\f\f\f\f\f\f\f\f\f\f\f\f\f\f\f\f\f\f\f\f\f\f\f\f\f\f\f\f\f\f\f\f\f\f\f\f\f\f\f\f\f\f\f\f\f\f\f\f\f\f\f\f\f\f\f\f\f at www.gutenberg.org. If you are not located in the United States,\n",
            "\n",
            "3/3 [==============================] - 0s 4ms/step\n",
            "\f\f\f\f\f\f\f\f\f\f\f\f\f\f\f\f\f\f\f\f\f\f\f\f\f\f\f\f\f\f\f\f\f\f\f\f\f\f\f\f\f\f\f\f\f\f\f\f\f\f\f\f\f\f\f\f\f\f\f\f\f\f\f\f\f\f\f\f\f you will have to check the laws of the country where you are located\n",
            "\n",
            "1/1 [==============================] - 0s 20ms/step\n",
            "\f\f\f\f\f\f\f\f\f\f\f\f\f\f\f\f\f\f\f\f\f\f\f\f\f before using this eBook.\n",
            "\n"
          ]
        }
      ],
      "source": [
        "with open('pg46144_head.txt') as f:\n",
        "  for line in f:\n",
        "    if line.isspace(): continue\n",
        "    batch = encode_one_hot(line)\n",
        "    preds = model.predict(batch)\n",
        "    normal = decode_values(preds)\n",
        "    print(normal, line)"
      ]
    },
    {
      "cell_type": "code",
      "execution_count": null,
      "metadata": {
        "id": "NWmrJJgt-HrK"
      },
      "outputs": [],
      "source": []
    }
  ],
  "metadata": {
    "colab": {
      "provenance": []
    },
    "kernelspec": {
      "display_name": "Python 3",
      "name": "python3"
    },
    "language_info": {
      "name": "python"
    }
  },
  "nbformat": 4,
  "nbformat_minor": 0
}